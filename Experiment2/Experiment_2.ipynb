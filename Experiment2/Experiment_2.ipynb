{
 "cells": [
  {
   "cell_type": "markdown",
   "id": "2c46486f-20e4-4656-b6ff-9ee213e44236",
   "metadata": {},
   "source": [
    "1. Bestimmen Sie die Masse m des Probekörpers mit der Feinwaage.\n",
    "   "
   ]
  },
  {
   "cell_type": "code",
   "execution_count": 6,
   "id": "a8478358-0307-422e-912e-879076a3a3e8",
   "metadata": {},
   "outputs": [],
   "source": [
    "#Gramm\n",
    "# Masse +- 0.1g\n",
    "M = 173.9 \n",
    "\n",
    "#Milliemeter\n",
    "# Kupfer Masse +- 0.01g\n",
    "H = 27.705 \n",
    "D = 29.94\n",
    "\n"
   ]
  },
  {
   "cell_type": "code",
   "execution_count": 58,
   "id": "491fc45d-04ca-4478-aaf9-ac9eb2521d82",
   "metadata": {},
   "outputs": [
    {
     "name": "stdout",
     "output_type": "stream",
     "text": [
      "0.00891554618525031\n",
      "4.802784195365682e-05\n",
      "8.957999999999998\n"
     ]
    }
   ],
   "source": [
    "import numpy as np\n",
    "\n",
    "def Vol(h , d):\n",
    "    '''Takes height and diameter outputs volume of cylinder'''    \n",
    "    return h * (d**2 / 4 ) * np.pi\n",
    "\n",
    "\n",
    "def Dens(v, m):\n",
    "    '''Takes Volume and Mass and outputs density'''\n",
    "    return m/v\n",
    "    \n",
    "def gaus(dm , dD, dH):\n",
    "    return np.sqrt( (dm/(H * (D/2)**2 * np.pi)) ** 2  +  (M * dH/(H**2 * (D/2)**2 *  np.pi)) ** 2 + (8*M * dD/(H * (D/2)**3 * np.pi )) ** 2)\n",
    "\n",
    "\n",
    "print(Dens(Vol(H,D) , M ))\n",
    "print(gaus(0.1 ,  0.01 , 0.01))\n",
    "print((0.00891 + 4.8 * 10**(-5)) * 1000) \n"
   ]
  }
 ],
 "metadata": {
  "kernelspec": {
   "display_name": "Python 3 (ipykernel)",
   "language": "python",
   "name": "python3"
  },
  "language_info": {
   "codemirror_mode": {
    "name": "ipython",
    "version": 3
   },
   "file_extension": ".py",
   "mimetype": "text/x-python",
   "name": "python",
   "nbconvert_exporter": "python",
   "pygments_lexer": "ipython3",
   "version": "3.12.4"
  }
 },
 "nbformat": 4,
 "nbformat_minor": 5
}
