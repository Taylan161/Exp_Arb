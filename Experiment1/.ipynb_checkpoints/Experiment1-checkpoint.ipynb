{
 "cells": [
  {
   "cell_type": "markdown",
   "id": "0f05d7d8-ac6e-48fd-ab20-e702a46f6bd8",
   "metadata": {
    "panel-layout": {
     "height": 167.75,
     "visible": true,
     "width": 100
    }
   },
   "source": [
    "### **Messungen von Größen**\n",
    "\n",
    "- Einspannung bis Hacken: 66,55 cm\n",
    "- Hacken: 1,245cm\n",
    "- Kugel: 2,5cm\n",
    "- Länge für Pendel: 69,045cm\n"
   ]
  },
  {
   "cell_type": "code",
   "execution_count": 39,
   "id": "95ca68e3-56d3-4858-8da1-5ae45e5bc588",
   "metadata": {
    "panel-layout": {
     "height": 0,
     "visible": true,
     "width": 100
    }
   },
   "outputs": [
    {
     "name": "stdout",
     "output_type": "stream",
     "text": [
      "Mean:\n",
      "16.744999999999997\n",
      "Standarddeviation:\n",
      "0.08452810183601699\n",
      "Std des Mittelwerts:\n",
      "0.026730132809247426\n",
      "Erdbeschleunigung: 9.721240038024428\n"
     ]
    }
   ],
   "source": [
    "import functools\n",
    "import math as m\n",
    "import numpy as np\n",
    "import numpy.random\n",
    "import pandas as pd\n",
    "import matplotlib.pyplot as plt\n",
    "\n",
    "\n",
    "#Konstanten\n",
    "\n",
    "#Länge von Einspannung bis zum Schwerpunkt\n",
    "Leng = 0.69045\n",
    "\n",
    "\n",
    "#Zeit für jeweils 10 Schwingunen\n",
    "Mess_10 = np.array([\n",
    "    16.73,\n",
    "    16.65,\n",
    "    16.67,\n",
    "    16.70,\n",
    "    16.75,\n",
    "    16.96,\n",
    "    16.82,\n",
    "    16.70,\n",
    "    16.72,\n",
    "    16.75\n",
    "])\n",
    "\n",
    "#Zeit für jeweils 10 Schwingunen\n",
    "Mess_1 = np.array([\n",
    "     1.62,\n",
    "     1.67,\n",
    "     1.64,\n",
    "     1.62,\n",
    "     1.67,\n",
    "    1.72,\n",
    "    1.61,\n",
    "    1.68,\n",
    "    1.72,\n",
    "    1.67,  \n",
    "])\n",
    "\n",
    "#10er\n",
    "t_m_10 = Mess_10.mean()\n",
    "t_std_10 = Mess_10.std()\n",
    "t_uns_10 = Mess_10.std()/np.sqrt(10)\n",
    "\n",
    "print(\"Mean:\" , t_m_10, \"Standarddeviation:\", t_std_10 , \"Std des Mittelwerts:\" , t_uns_10, sep=\"\\n\")\n",
    "print(\"Erdbeschleunigung:\" , 4*(np.pi**2) * Leng/((t_m_10/10)**2))\n"
   ]
  },
  {
   "cell_type": "code",
   "execution_count": 41,
   "id": "48376b0e-d1dd-4625-9ef2-643824f164ba",
   "metadata": {},
   "outputs": [
    {
     "name": "stdout",
     "output_type": "stream",
     "text": [
      "Mean:\n",
      "1.6620000000000001\n",
      "Standarddeviation:\n",
      "0.03736308338453876\n",
      "Std des Mittelwerts:\n",
      "0.011815244390193528\n",
      "Erdbeschleunigung: 9.868017971956347\n"
     ]
    }
   ],
   "source": [
    "#1er\n",
    "t_m_1 = Mess_1.mean()\n",
    "t_std_1 = Mess_1.std()\n",
    "t_uns_1 = Mess_1.std()/np.sqrt(10)\n",
    "\n",
    "print(\"Mean:\" , t_m_1, \"Standarddeviation:\", t_std_1 , \"Std des Mittelwerts:\" , t_uns_1, sep=\"\\n\")\n",
    "print(\"Erdbeschleunigung:\" , 4*(np.pi**2) * Leng/(t_m_1**2))\n",
    "\n"
   ]
  }
 ],
 "metadata": {
  "kernelspec": {
   "display_name": "Python 3 (ipykernel)",
   "language": "python",
   "name": "python3"
  },
  "language_info": {
   "codemirror_mode": {
    "name": "ipython",
    "version": 3
   },
   "file_extension": ".py",
   "mimetype": "text/x-python",
   "name": "python",
   "nbconvert_exporter": "python",
   "pygments_lexer": "ipython3",
   "version": "3.12.4"
  },
  "panel-cell-order": [
   "0f05d7d8-ac6e-48fd-ab20-e702a46f6bd8",
   "95ca68e3-56d3-4858-8da1-5ae45e5bc588"
  ]
 },
 "nbformat": 4,
 "nbformat_minor": 5
}
